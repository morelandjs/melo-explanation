{
 "cells": [
  {
   "cell_type": "markdown",
   "metadata": {},
   "source": [
    "# Elo basics\n",
    "\n",
    "The margin-dependent Elo model is based on the classical Elo model for win/loss games. The easiest way to understand the classical Elo algorithm is by looking at a minimal working example.\n",
    "\n",
    "Example problem\n",
    "===============\n",
    "\n",
    "Consider two teams, `team_A` and `team_B`, each described by an instrinsic number, `rating_A` and `rating_B` respectively, which describes their true strength. Let's initially suppose the two teams are of equal strength and initialize their ratings as follows:"
   ]
  },
  {
   "cell_type": "code",
   "execution_count": 1,
   "metadata": {},
   "outputs": [],
   "source": [
    "rating_A = 0\n",
    "rating_B = 0"
   ]
  },
  {
   "cell_type": "markdown",
   "metadata": {},
   "source": [
    "The Elo model says that the predicted (or prior) probability for `team_A` beating `team_B` is obtained by applying a certain cumulative distribution function (CDF) to the rating _difference_ of `team_A` and `team_B`."
   ]
  },
  {
   "cell_type": "code",
   "execution_count": 2,
   "metadata": {},
   "outputs": [
    {
     "name": "stdout",
     "output_type": "stream",
     "text": [
      "Probability team A beats team B: 0.50\n"
     ]
    }
   ],
   "source": [
    "from scipy.stats import norm\n",
    "\n",
    "# Predicted probability that team_A beats team_B\n",
    "pred_win_AvsB = norm.cdf(rating_A - rating_B)\n",
    "\n",
    "print('Probability team A beats team B: {:.2f}'.format(pred_win_AvsB))"
   ]
  },
  {
   "cell_type": "markdown",
   "metadata": {},
   "source": [
    "Assume now, that team_A beats team_B in the game of interest. We should therefore increase team_A's rating relative to team_B's to account for this new information. The Elo model does this by transferring some of team_B's rating to team_A. The size of the rating change is given by the following formula:"
   ]
  },
  {
   "cell_type": "code",
   "execution_count": 3,
   "metadata": {},
   "outputs": [
    {
     "name": "stdout",
     "output_type": "stream",
     "text": [
      "rating change = 0.10\n"
     ]
    }
   ],
   "source": [
    "# Observed \"probability\" that team_A beats team_B.\n",
    "obs_win_AvsB = 1\n",
    "\n",
    "# Formula for computing the magnitude of rating transfer.\n",
    "kfactor = 0.2\n",
    "rating_change = kfactor * (obs_win_AvsB - pred_win_AvsB)\n",
    "\n",
    "print('rating change = {:.2f}'.format(rating_change))"
   ]
  },
  {
   "cell_type": "markdown",
   "metadata": {},
   "source": [
    "Notice that this rating change scales with the magnitude of the difference between the game's predicted and observed outcome probabilities. The `kfactor` constant is a free parameter which determines how rapidly the ratings should respond to each game outcome.\n",
    "\n",
    "Once the rating change is calculated, the ratings are updated as follows:"
   ]
  },
  {
   "cell_type": "code",
   "execution_count": 4,
   "metadata": {},
   "outputs": [],
   "source": [
    "rating_A += rating_change\n",
    "rating_B -= rating_change"
   ]
  },
  {
   "cell_type": "markdown",
   "metadata": {},
   "source": [
    "Now that we've updated the ratings for each team, let's revisit the predicted probability that team_A beats team_B again."
   ]
  },
  {
   "cell_type": "code",
   "execution_count": 5,
   "metadata": {},
   "outputs": [
    {
     "name": "stdout",
     "output_type": "stream",
     "text": [
      "Probability team A beats team B: 0.58\n"
     ]
    }
   ],
   "source": [
    "# Predicted probability that team_A beats team_B.\n",
    "pred_win_AvsB = norm.cdf(rating_A - rating_B)\n",
    "\n",
    "print('Probability team A beats team B: {:.2f}'.format(pred_win_AvsB))"
   ]
  },
  {
   "cell_type": "markdown",
   "metadata": {},
   "source": [
    "Now we see that team_A is predicted to beat team_B with _greater_ than 50% probability. This reflects the fact that we just observed team_A beating team_B in the previous matchup. What happens if team_A beats team_B again?"
   ]
  },
  {
   "cell_type": "code",
   "execution_count": 6,
   "metadata": {},
   "outputs": [
    {
     "name": "stdout",
     "output_type": "stream",
     "text": [
      "Probability team A beats team B: 0.64\n"
     ]
    }
   ],
   "source": [
    "# Suppose team_A beats team_B again.\n",
    "obs_win_AvsB = 1\n",
    "\n",
    "# Formula for computing the magnitude of rating transfer.\n",
    "rating_change = kfactor * (obs_win_AvsB - pred_win_AvsB)\n",
    "\n",
    "# Update each team's ratings\n",
    "rating_A += rating_change\n",
    "rating_B -= rating_change\n",
    "\n",
    "# Predicted probability that teamA beats teamB.\n",
    "pred_win_AvsB = norm.cdf(rating_A - rating_B)\n",
    "\n",
    "print('Probability team A beats team B: {:.2f}'.format(pred_win_AvsB))"
   ]
  },
  {
   "cell_type": "markdown",
   "metadata": {},
   "source": [
    "The predicted probability that team_A beats team_B is now even higher! Notice however, that the probability only increased by .06 for the second update whereas it increased by .08 after the first update. This diminishing return ensures that subsequent updates never increase the win probability beyond 100%."
   ]
  },
  {
   "cell_type": "markdown",
   "metadata": {},
   "source": [
    "Accounting for margin of victory\n",
    "================================\n",
    "\n",
    "Everything up to this point has been for a single win/loss game. What if we want to generate ratings and predictions for games with integer or real-valued outcomes?\n",
    "\n",
    "Imagine now a game which produces two scores, score_A and score_B, which we can use to construct a point spread S = score_A - score_B. Consider four possible comparison lines = [-1.5, -0.5, 0.5, 1.5] for the point spread S (here I've omitted ties for simplicity, but they can be incorporated as well).\n",
    "\n",
    "A team might be really good at finishing with S > 0.5, covering the first three lines [-1.5, -0.5, 0.5] and falling short of the fourth line 1.5, but they could be really _bad_ at finishing with S > 1.5 (maybe they always win but just barely). The general premise of the margin-dependent Elo model is that we can train an Elo model for each value of the point spread S. Hence if we choose four comparison lines for S, then we need four rating numbers for each team. Let's initialize every rating value to zero which treats all outcomes as equally likely."
   ]
  },
  {
   "cell_type": "code",
   "execution_count": 7,
   "metadata": {},
   "outputs": [],
   "source": [
    "import numpy as np\n",
    "\n",
    "# vector of initial ratings\n",
    "rating_A = np.array([0., 0., 0., 0.])\n",
    "rating_B = np.array([0., 0., 0., 0.])"
   ]
  },
  {
   "cell_type": "markdown",
   "metadata": {},
   "source": [
    "Let's start now by computing the predicted probability that team_A beats team_B by each possible margin of victory line. We'll follow the same procedure as before with one important difference.\n",
    "\n",
    "For margin of victory Elo, if team_A becomes more likely to _win_ by p or more points, then team_B becomes more likely to _lose_ by p or more points. Hence the rating transfer should occur from team_B's rating at -p points to team_A's rating at +p points. The predicted win probability formula thus involves an additional reflection:"
   ]
  },
  {
   "cell_type": "code",
   "execution_count": 8,
   "metadata": {},
   "outputs": [
    {
     "name": "stdout",
     "output_type": "stream",
     "text": [
      "Possible outcomes: [S > -1.5, S > -0.5, S > 0.5, S > 1.5]\n",
      "Probability of each possible outcome: [0.5 0.5 0.5 0.5]\n"
     ]
    }
   ],
   "source": [
    "# Predicted probability that team_A beats team_B by each point spread outcome S = score_A - score_B:\n",
    "pred_win_AvsB = norm.cdf(rating_A - rating_B[::-1])\n",
    "\n",
    "print('Possible outcomes: [S > -1.5, S > -0.5, S > 0.5, S > 1.5]')\n",
    "print('Probability of each possible outcome:', pred_win_AvsB)"
   ]
  },
  {
   "cell_type": "markdown",
   "metadata": {},
   "source": [
    "Assume now that team_A beats team_B by 1 point. The rating transfer is given by"
   ]
  },
  {
   "cell_type": "code",
   "execution_count": 9,
   "metadata": {},
   "outputs": [
    {
     "name": "stdout",
     "output_type": "stream",
     "text": [
      "rating change =  [ 0.1  0.1  0.1 -0.1]\n"
     ]
    }
   ],
   "source": [
    "# Vector of point spread outcomes\n",
    "obs_win_AvsB = np.array([1, 1, 1, 0])\n",
    "\n",
    "# Formula for computing the magnitude of rating transfer.\n",
    "rating_change = kfactor * (obs_win_AvsB - pred_win_AvsB)\n",
    "\n",
    "print('rating change = ', rating_change)"
   ]
  },
  {
   "cell_type": "markdown",
   "metadata": {},
   "source": [
    "We can then apply the same formula to update the ratings, noting that the rating transfer should occur with a reflection as noted above."
   ]
  },
  {
   "cell_type": "code",
   "execution_count": 10,
   "metadata": {},
   "outputs": [
    {
     "name": "stdout",
     "output_type": "stream",
     "text": [
      "Probability team A beats team B:\n",
      " [0.57925971 0.57925971 0.57925971 0.42074029]\n"
     ]
    }
   ],
   "source": [
    "# Update each team's ratings\n",
    "rating_A += rating_change\n",
    "rating_B -= rating_change[::-1]\n",
    "\n",
    "# Predicted probability that teamA beats teamB.\n",
    "pred_win_AvsB = norm.cdf(rating_A - rating_B[::-1])\n",
    "\n",
    "print('Probability team A beats team B:\\n', pred_win_AvsB)"
   ]
  },
  {
   "cell_type": "markdown",
   "metadata": {},
   "source": [
    "Notice that after one update the predicted spread became slightly more likely for spreads S < 1 and slightly less likely for spreads S > 1. Let's repeat this same game outcome a few times and see how the ratings respond."
   ]
  },
  {
   "cell_type": "code",
   "execution_count": 12,
   "metadata": {},
   "outputs": [
    {
     "name": "stdout",
     "output_type": "stream",
     "text": [
      "Probability team A beats team B at each line:\n",
      " [0.98938948 0.98938948 0.98938948 0.01061052]\n",
      "Probability team A beats team B at each line:\n",
      " [0.98950801 0.98950801 0.98950801 0.01049199]\n",
      "Probability team A beats team B at each line:\n",
      " [0.98962409 0.98962409 0.98962409 0.01037591]\n",
      "Probability team A beats team B at each line:\n",
      " [0.98973778 0.98973778 0.98973778 0.01026222]\n",
      "Probability team A beats team B at each line:\n",
      " [0.98984915 0.98984915 0.98984915 0.01015085]\n",
      "Probability team A beats team B at each line:\n",
      " [0.98995827 0.98995827 0.98995827 0.01004173]\n",
      "Probability team A beats team B at each line:\n",
      " [0.99006522 0.99006522 0.99006522 0.00993478]\n",
      "Probability team A beats team B at each line:\n",
      " [0.99017004 0.99017004 0.99017004 0.00982996]\n",
      "Probability team A beats team B at each line:\n",
      " [0.99027281 0.99027281 0.99027281 0.00972719]\n",
      "Probability team A beats team B at each line:\n",
      " [0.99037357 0.99037357 0.99037357 0.00962643]\n",
      "Probability team A beats team B at each line:\n",
      " [0.9904724 0.9904724 0.9904724 0.0095276]\n",
      "Probability team A beats team B at each line:\n",
      " [0.99056933 0.99056933 0.99056933 0.00943067]\n",
      "Probability team A beats team B at each line:\n",
      " [0.99066443 0.99066443 0.99066443 0.00933557]\n",
      "Probability team A beats team B at each line:\n",
      " [0.99075774 0.99075774 0.99075774 0.00924226]\n",
      "Probability team A beats team B at each line:\n",
      " [0.99084931 0.99084931 0.99084931 0.00915069]\n",
      "Probability team A beats team B at each line:\n",
      " [0.99093919 0.99093919 0.99093919 0.00906081]\n",
      "Probability team A beats team B at each line:\n",
      " [0.99102743 0.99102743 0.99102743 0.00897257]\n",
      "Probability team A beats team B at each line:\n",
      " [0.99111407 0.99111407 0.99111407 0.00888593]\n",
      "Probability team A beats team B at each line:\n",
      " [0.99119914 0.99119914 0.99119914 0.00880086]\n",
      "Probability team A beats team B at each line:\n",
      " [0.9912827 0.9912827 0.9912827 0.0087173]\n",
      "Probability team A beats team B at each line:\n",
      " [0.99136477 0.99136477 0.99136477 0.00863523]\n",
      "Probability team A beats team B at each line:\n",
      " [0.99144541 0.99144541 0.99144541 0.00855459]\n",
      "Probability team A beats team B at each line:\n",
      " [0.99152464 0.99152464 0.99152464 0.00847536]\n",
      "Probability team A beats team B at each line:\n",
      " [0.9916025 0.9916025 0.9916025 0.0083975]\n",
      "Probability team A beats team B at each line:\n",
      " [0.99167902 0.99167902 0.99167902 0.00832098]\n",
      "Probability team A beats team B at each line:\n",
      " [0.99175424 0.99175424 0.99175424 0.00824576]\n",
      "Probability team A beats team B at each line:\n",
      " [0.9918282 0.9918282 0.9918282 0.0081718]\n",
      "Probability team A beats team B at each line:\n",
      " [0.99190091 0.99190091 0.99190091 0.00809909]\n",
      "Probability team A beats team B at each line:\n",
      " [0.99197241 0.99197241 0.99197241 0.00802759]\n",
      "Probability team A beats team B at each line:\n",
      " [0.99204274 0.99204274 0.99204274 0.00795726]\n",
      "Probability team A beats team B at each line:\n",
      " [0.99211191 0.99211191 0.99211191 0.00788809]\n",
      "Probability team A beats team B at each line:\n",
      " [0.99217996 0.99217996 0.99217996 0.00782004]\n",
      "Probability team A beats team B at each line:\n",
      " [0.99224692 0.99224692 0.99224692 0.00775308]\n",
      "Probability team A beats team B at each line:\n",
      " [0.9923128 0.9923128 0.9923128 0.0076872]\n",
      "Probability team A beats team B at each line:\n",
      " [0.99237763 0.99237763 0.99237763 0.00762237]\n",
      "Probability team A beats team B at each line:\n",
      " [0.99244144 0.99244144 0.99244144 0.00755856]\n",
      "Probability team A beats team B at each line:\n",
      " [0.99250426 0.99250426 0.99250426 0.00749574]\n",
      "Probability team A beats team B at each line:\n",
      " [0.99256609 0.99256609 0.99256609 0.00743391]\n",
      "Probability team A beats team B at each line:\n",
      " [0.99262697 0.99262697 0.99262697 0.00737303]\n",
      "Probability team A beats team B at each line:\n",
      " [0.99268692 0.99268692 0.99268692 0.00731308]\n",
      "Probability team A beats team B at each line:\n",
      " [0.99274596 0.99274596 0.99274596 0.00725404]\n",
      "Probability team A beats team B at each line:\n",
      " [0.9928041 0.9928041 0.9928041 0.0071959]\n",
      "Probability team A beats team B at each line:\n",
      " [0.99286137 0.99286137 0.99286137 0.00713863]\n",
      "Probability team A beats team B at each line:\n",
      " [0.99291779 0.99291779 0.99291779 0.00708221]\n",
      "Probability team A beats team B at each line:\n",
      " [0.99297337 0.99297337 0.99297337 0.00702663]\n",
      "Probability team A beats team B at each line:\n",
      " [0.99302814 0.99302814 0.99302814 0.00697186]\n",
      "Probability team A beats team B at each line:\n",
      " [0.9930821 0.9930821 0.9930821 0.0069179]\n",
      "Probability team A beats team B at each line:\n",
      " [0.99313529 0.99313529 0.99313529 0.00686471]\n",
      "Probability team A beats team B at each line:\n",
      " [0.9931877 0.9931877 0.9931877 0.0068123]\n",
      "Probability team A beats team B at each line:\n",
      " [0.99323937 0.99323937 0.99323937 0.00676063]\n",
      "Probability team A beats team B at each line:\n",
      " [0.9932903 0.9932903 0.9932903 0.0067097]\n",
      "Probability team A beats team B at each line:\n",
      " [0.99334052 0.99334052 0.99334052 0.00665948]\n",
      "Probability team A beats team B at each line:\n",
      " [0.99339003 0.99339003 0.99339003 0.00660997]\n",
      "Probability team A beats team B at each line:\n",
      " [0.99343885 0.99343885 0.99343885 0.00656115]\n",
      "Probability team A beats team B at each line:\n",
      " [0.99348699 0.99348699 0.99348699 0.00651301]\n",
      "Probability team A beats team B at each line:\n",
      " [0.99353447 0.99353447 0.99353447 0.00646553]\n",
      "Probability team A beats team B at each line:\n",
      " [0.9935813 0.9935813 0.9935813 0.0064187]\n",
      "Probability team A beats team B at each line:\n",
      " [0.99362749 0.99362749 0.99362749 0.00637251]\n",
      "Probability team A beats team B at each line:\n",
      " [0.99367306 0.99367306 0.99367306 0.00632694]\n",
      "Probability team A beats team B at each line:\n",
      " [0.99371802 0.99371802 0.99371802 0.00628198]\n",
      "Probability team A beats team B at each line:\n",
      " [0.99376238 0.99376238 0.99376238 0.00623762]\n",
      "Probability team A beats team B at each line:\n",
      " [0.99380615 0.99380615 0.99380615 0.00619385]\n",
      "Probability team A beats team B at each line:\n",
      " [0.99384935 0.99384935 0.99384935 0.00615065]\n",
      "Probability team A beats team B at each line:\n",
      " [0.99389198 0.99389198 0.99389198 0.00610802]\n",
      "Probability team A beats team B at each line:\n",
      " [0.99393405 0.99393405 0.99393405 0.00606595]\n",
      "Probability team A beats team B at each line:\n",
      " [0.99397558 0.99397558 0.99397558 0.00602442]\n",
      "Probability team A beats team B at each line:\n",
      " [0.99401658 0.99401658 0.99401658 0.00598342]\n",
      "Probability team A beats team B at each line:\n",
      " [0.99405705 0.99405705 0.99405705 0.00594295]\n",
      "Probability team A beats team B at each line:\n",
      " [0.99409701 0.99409701 0.99409701 0.00590299]\n",
      "Probability team A beats team B at each line:\n",
      " [0.99413646 0.99413646 0.99413646 0.00586354]\n",
      "Probability team A beats team B at each line:\n",
      " [0.99417542 0.99417542 0.99417542 0.00582458]\n",
      "Probability team A beats team B at each line:\n",
      " [0.99421389 0.99421389 0.99421389 0.00578611]\n",
      "Probability team A beats team B at each line:\n",
      " [0.99425189 0.99425189 0.99425189 0.00574811]\n",
      "Probability team A beats team B at each line:\n",
      " [0.99428941 0.99428941 0.99428941 0.00571059]\n",
      "Probability team A beats team B at each line:\n",
      " [0.99432648 0.99432648 0.99432648 0.00567352]\n",
      "Probability team A beats team B at each line:\n",
      " [0.99436309 0.99436309 0.99436309 0.00563691]\n",
      "Probability team A beats team B at each line:\n",
      " [0.99439926 0.99439926 0.99439926 0.00560074]\n",
      "Probability team A beats team B at each line:\n",
      " [0.99443499 0.99443499 0.99443499 0.00556501]\n",
      "Probability team A beats team B at each line:\n",
      " [0.9944703 0.9944703 0.9944703 0.0055297]\n",
      "Probability team A beats team B at each line:\n",
      " [0.99450518 0.99450518 0.99450518 0.00549482]\n",
      "Probability team A beats team B at each line:\n",
      " [0.99453965 0.99453965 0.99453965 0.00546035]\n",
      "Probability team A beats team B at each line:\n",
      " [0.99457371 0.99457371 0.99457371 0.00542629]\n",
      "Probability team A beats team B at each line:\n",
      " [0.99460737 0.99460737 0.99460737 0.00539263]\n",
      "Probability team A beats team B at each line:\n",
      " [0.99464064 0.99464064 0.99464064 0.00535936]\n",
      "Probability team A beats team B at each line:\n",
      " [0.99467352 0.99467352 0.99467352 0.00532648]\n",
      "Probability team A beats team B at each line:\n",
      " [0.99470602 0.99470602 0.99470602 0.00529398]\n",
      "Probability team A beats team B at each line:\n",
      " [0.99473815 0.99473815 0.99473815 0.00526185]\n",
      "Probability team A beats team B at each line:\n",
      " [0.99476992 0.99476992 0.99476992 0.00523008]\n",
      "Probability team A beats team B at each line:\n",
      " [0.99480132 0.99480132 0.99480132 0.00519868]\n",
      "Probability team A beats team B at each line:\n",
      " [0.99483237 0.99483237 0.99483237 0.00516763]\n",
      "Probability team A beats team B at each line:\n",
      " [0.99486307 0.99486307 0.99486307 0.00513693]\n",
      "Probability team A beats team B at each line:\n",
      " [0.99489342 0.99489342 0.99489342 0.00510658]\n",
      "Probability team A beats team B at each line:\n",
      " [0.99492344 0.99492344 0.99492344 0.00507656]\n",
      "Probability team A beats team B at each line:\n",
      " [0.99495312 0.99495312 0.99495312 0.00504688]\n",
      "Probability team A beats team B at each line:\n",
      " [0.99498248 0.99498248 0.99498248 0.00501752]\n",
      "Probability team A beats team B at each line:\n",
      " [0.99501152 0.99501152 0.99501152 0.00498848]\n",
      "Probability team A beats team B at each line:\n",
      " [0.99504024 0.99504024 0.99504024 0.00495976]\n",
      "Probability team A beats team B at each line:\n",
      " [0.99506864 0.99506864 0.99506864 0.00493136]\n",
      "Probability team A beats team B at each line:\n",
      " [0.99509675 0.99509675 0.99509675 0.00490325]\n",
      "Probability team A beats team B at each line:\n",
      " [0.99512455 0.99512455 0.99512455 0.00487545]\n"
     ]
    }
   ],
   "source": [
    "for n in range(100):\n",
    "    # Vector of point spread outcomes: team_A lose by 1, 2\n",
    "    # and win by 2 are zero, while outcome for win by 1 is one.\n",
    "    obs_win_AvsB = np.array([1, 1, 1, 0])\n",
    "\n",
    "    # Formula for computing the magnitude of rating transfer.\n",
    "    rating_change = kfactor * (obs_win_AvsB - pred_win_AvsB)\n",
    "    \n",
    "    # Update each team's ratings\n",
    "    rating_A += rating_change\n",
    "    rating_B -= rating_change[::-1]\n",
    "\n",
    "    # Predicted probability that teamA beats teamB.\n",
    "    pred_win_AvsB = norm.cdf(rating_A - rating_B[::-1])\n",
    "\n",
    "    print('Probability team A beats team B at each line:\\n', pred_win_AvsB)"
   ]
  },
  {
   "cell_type": "markdown",
   "metadata": {},
   "source": [
    "After many iterations, we see that the predicted probability converges to the true probability distribution estimated from our observations. Our Elo estimated CDF becomes a step function. For S < 1 the predicted probability is ~1 and for S > 1 the predicted probability is ~0. The probability distribution function (PDF) can be estimated from the CDF by taking the first derivative. This produces a delta function located at S = 1. In other words, our model will predict a point spread of S = 1 if it repeatedly observed a point spread of S = 1."
   ]
  },
  {
   "cell_type": "markdown",
   "metadata": {},
   "source": [
    "In practice, one can estimate the point spread CDF by computing Elo ratings for each value of the point spread within some reasonable range. For example, if NFL point spreads fall within |S| < 60, then one might compute Elo ratings at each line = [-60.5, -59.5, ..., 59.5, 60.5]."
   ]
  },
  {
   "cell_type": "code",
   "execution_count": null,
   "metadata": {},
   "outputs": [],
   "source": []
  }
 ],
 "metadata": {
  "kernelspec": {
   "display_name": "Python 3",
   "language": "python",
   "name": "python3"
  },
  "language_info": {
   "codemirror_mode": {
    "name": "ipython",
    "version": 3
   },
   "file_extension": ".py",
   "mimetype": "text/x-python",
   "name": "python",
   "nbconvert_exporter": "python",
   "pygments_lexer": "ipython3",
   "version": "3.7.4"
  }
 },
 "nbformat": 4,
 "nbformat_minor": 2
}
